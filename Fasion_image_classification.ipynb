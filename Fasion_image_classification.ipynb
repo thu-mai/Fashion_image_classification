{
 "cells": [
  {
   "cell_type": "markdown",
   "metadata": {
    "colab_type": "text",
    "id": "e8xtbr1Yi6hU"
   },
   "source": [
    "### 1) Build a multi-class classification model using CNN"
   ]
  },
  {
   "cell_type": "code",
   "execution_count": null,
   "metadata": {
    "colab": {
     "base_uri": "https://localhost:8080/",
     "height": 34
    },
    "colab_type": "code",
    "id": "IRcnHyOTPqyx",
    "outputId": "9ebf4a4a-460b-4ae6-a275-a088b6bdcf4c"
   },
   "outputs": [
    {
     "name": "stderr",
     "output_type": "stream",
     "text": [
      "Using TensorFlow backend.\n"
     ]
    }
   ],
   "source": [
    "import numpy as np\n",
    "import pandas as pd\n",
    "from keras.models import Sequential, model_from_json\n",
    "from keras.layers import Conv2D, MaxPooling2D\n",
    "from keras.layers import Dropout, Flatten, Dense\n",
    "from keras.optimizers import SGD\n",
    "from keras.preprocessing.image import ImageDataGenerator\n",
    "from sklearn.metrics import roc_auc_score\n",
    "from sklearn.metrics import confusion_matrix, classification_report"
   ]
  },
  {
   "cell_type": "code",
   "execution_count": null,
   "metadata": {
    "colab": {},
    "colab_type": "code",
    "id": "prqOojuXeHG0"
   },
   "outputs": [],
   "source": [
    "import tensorflow as tf\n",
    "from tensorflow.keras import layers"
   ]
  },
  {
   "cell_type": "code",
   "execution_count": null,
   "metadata": {
    "colab": {},
    "colab_type": "code",
    "id": "0vAWyr23Qgqz"
   },
   "outputs": [],
   "source": [
    "train_datagen = ImageDataGenerator(\n",
    "    rescale = 1./255,\n",
    "    shear_range = 0.2, # random application of shearing\n",
    "    zoom_range = 0.2,\n",
    "    horizontal_flip = True) # randomly flipping half of the images horizontally"
   ]
  },
  {
   "cell_type": "code",
   "execution_count": null,
   "metadata": {
    "colab": {},
    "colab_type": "code",
    "id": "-S0lOCJxRdxo"
   },
   "outputs": [],
   "source": [
    "test_datagen = ImageDataGenerator(rescale = 1./255)"
   ]
  },
  {
   "cell_type": "code",
   "execution_count": null,
   "metadata": {
    "colab": {},
    "colab_type": "code",
    "id": "r7BhE2XMSD2m"
   },
   "outputs": [],
   "source": [
    "batch_size = 32\n",
    "num_val_samples = 137\n",
    "steps = 2295*1.4/batch_size"
   ]
  },
  {
   "cell_type": "code",
   "execution_count": null,
   "metadata": {
    "colab": {
     "base_uri": "https://localhost:8080/",
     "height": 34
    },
    "colab_type": "code",
    "id": "cv3QkeCSSJKG",
    "outputId": "972d799e-43d3-485a-ad8b-f9e7386ca967"
   },
   "outputs": [
    {
     "name": "stdout",
     "output_type": "stream",
     "text": [
      "Found 35448 images belonging to 4 classes.\n"
     ]
    }
   ],
   "source": [
    "train_generator = train_datagen.flow_from_directory(\n",
    "    'Jul_2020/train',\n",
    "    target_size = (256, 256),\n",
    "    color_mode = 'rgb',\n",
    "    batch_size = batch_size,\n",
    "    class_mode = 'sparse')"
   ]
  },
  {
   "cell_type": "code",
   "execution_count": null,
   "metadata": {
    "colab": {
     "base_uri": "https://localhost:8080/",
     "height": 34
    },
    "colab_type": "code",
    "id": "bsqtERylS0SB",
    "outputId": "ebc6af73-6456-47c4-f5a9-ca5b0a1ce898"
   },
   "outputs": [
    {
     "name": "stdout",
     "output_type": "stream",
     "text": [
      "Found 8862 images belonging to 4 classes.\n"
     ]
    }
   ],
   "source": [
    "test_generator = test_datagen.flow_from_directory(\n",
    "    'Jul_2020/test',\n",
    "    target_size = (256, 256),\n",
    "    color_mode = 'rgb',\n",
    "    batch_size = 1,\n",
    "    class_mode = 'sparse',\n",
    "    shuffle = False)"
   ]
  },
  {
   "cell_type": "markdown",
   "metadata": {
    "colab_type": "text",
    "id": "mRfOTwLwU3H8"
   },
   "source": []
  },
  {
   "cell_type": "code",
   "execution_count": null,
   "metadata": {
    "colab": {},
    "colab_type": "code",
    "id": "chU9KUYlUPBL"
   },
   "outputs": [],
   "source": [
    "model = tf.keras.Sequential([\n",
    "    layers.Conv2D(32, (3, 3), activation='relu', input_shape=(256, 256, 3)),\n",
    "    layers.MaxPooling2D((2, 2)),\n",
    "    layers.Conv2D(64, (3, 3), activation='relu'),\n",
    "    layers.MaxPooling2D((2, 2)),\n",
    "    layers.Conv2D(64, (3, 3), activation='relu'),\n",
    "    layers.Flatten(),\n",
    "    layers.Dense(64, activation='relu'),\n",
    "    layers.Dense(4, activation='softmax')\n",
    "])\n",
    "model.compile(optimizer='adam',\n",
    "              loss='sparse_categorical_crossentropy',\n",
    "              metrics=['accuracy'])"
   ]
  },
  {
   "cell_type": "code",
   "execution_count": null,
   "metadata": {
    "colab": {
     "base_uri": "https://localhost:8080/",
     "height": 224
    },
    "colab_type": "code",
    "id": "2CIFmidxdoju",
    "outputId": "2763533d-3889-4e23-b0a5-d6bd4cd760ee"
   },
   "outputs": [
    {
     "name": "stdout",
     "output_type": "stream",
     "text": [
      "Epoch 1/5\n",
      "1108/1108 [==============================] - 513s 463ms/step - loss: 0.3691 - accuracy: 0.8834 - val_loss: 0.1923 - val_accuracy: 0.9353\n",
      "Epoch 2/5\n",
      "1108/1108 [==============================] - 493s 445ms/step - loss: 0.1736 - accuracy: 0.9417 - val_loss: 0.1304 - val_accuracy: 0.9568\n",
      "Epoch 3/5\n",
      "1108/1108 [==============================] - 490s 442ms/step - loss: 0.2198 - accuracy: 0.9237 - val_loss: 0.2561 - val_accuracy: 0.9107\n",
      "Epoch 4/5\n",
      "1108/1108 [==============================] - 486s 439ms/step - loss: 0.1776 - accuracy: 0.9420 - val_loss: 0.1111 - val_accuracy: 0.9632\n",
      "Epoch 5/5\n",
      "1108/1108 [==============================] - 483s 436ms/step - loss: 0.1146 - accuracy: 0.9627 - val_loss: 0.0914 - val_accuracy: 0.9729\n"
     ]
    },
    {
     "data": {
      "text/plain": [
       "<tensorflow.python.keras.callbacks.History at 0x7f99ac3f9e80>"
      ]
     },
     "execution_count": 40,
     "metadata": {
      "tags": []
     },
     "output_type": "execute_result"
    }
   ],
   "source": [
    "model.fit(train_generator, validation_data = test_generator, epochs=5)"
   ]
  },
  {
   "cell_type": "code",
   "execution_count": null,
   "metadata": {
    "colab": {},
    "colab_type": "code",
    "id": "56z9zNB9L2Vu"
   },
   "outputs": [],
   "source": [
    "model.save_weights('drive/My Drive/AML/Model1_9627.h5')"
   ]
  },
  {
   "cell_type": "code",
   "execution_count": null,
   "metadata": {
    "colab": {},
    "colab_type": "code",
    "id": "Ke3kQkd9-sMz"
   },
   "outputs": [],
   "source": [
    "model.load_weights('drive/My Drive/AML/Model1_9627.h5')"
   ]
  },
  {
   "cell_type": "code",
   "execution_count": null,
   "metadata": {
    "colab": {},
    "colab_type": "code",
    "id": "6dc5LgtpdlfA"
   },
   "outputs": [],
   "source": [
    "Y_pred = model.predict(test_generator)"
   ]
  },
  {
   "cell_type": "code",
   "execution_count": null,
   "metadata": {
    "colab": {
     "base_uri": "https://localhost:8080/",
     "height": 153
    },
    "colab_type": "code",
    "id": "JI4_P96kfSwx",
    "outputId": "c65000c6-2b63-43e1-c738-eb666198788d"
   },
   "outputs": [
    {
     "data": {
      "text/plain": [
       "array([[9.9997556e-01, 2.1733847e-07, 2.4185747e-05, 5.4570840e-12],\n",
       "       [9.6222925e-01, 3.6400910e-02, 1.4664066e-05, 1.3551178e-03],\n",
       "       [9.6244675e-01, 3.7369747e-02, 1.8315675e-04, 3.5429127e-07],\n",
       "       ...,\n",
       "       [1.8551290e-02, 2.6097070e-05, 1.7067454e-04, 9.8125196e-01],\n",
       "       [8.6448668e-03, 7.4338786e-05, 1.0301232e-04, 9.9117774e-01],\n",
       "       [1.0174648e-03, 3.6953195e-05, 1.2113347e-07, 9.9894553e-01]],\n",
       "      dtype=float32)"
      ]
     },
     "execution_count": 33,
     "metadata": {
      "tags": []
     },
     "output_type": "execute_result"
    }
   ],
   "source": [
    "Y_pred"
   ]
  },
  {
   "cell_type": "code",
   "execution_count": null,
   "metadata": {
    "colab": {
     "base_uri": "https://localhost:8080/",
     "height": 34
    },
    "colab_type": "code",
    "id": "Ibiy19VNfhGq",
    "outputId": "1eab7607-20fe-4980-fa42-41053687201f"
   },
   "outputs": [
    {
     "data": {
      "text/plain": [
       "array([0, 0, 0, ..., 3, 3, 3])"
      ]
     },
     "execution_count": 34,
     "metadata": {
      "tags": []
     },
     "output_type": "execute_result"
    }
   ],
   "source": [
    "y_pred = np.argmax(Y_pred, axis=1)\n",
    "y_pred"
   ]
  },
  {
   "cell_type": "markdown",
   "metadata": {
    "colab_type": "text",
    "id": "ZzJZRx4DjCnn"
   },
   "source": [
    "##### Confusion Matrix"
   ]
  },
  {
   "cell_type": "code",
   "execution_count": null,
   "metadata": {
    "colab": {
     "base_uri": "https://localhost:8080/",
     "height": 85
    },
    "colab_type": "code",
    "id": "2SrbRvsRfojS",
    "outputId": "56aa905f-94ce-42a5-80c8-ba774f293637"
   },
   "outputs": [
    {
     "name": "stdout",
     "output_type": "stream",
     "text": [
      "[[2176   63   10    9]\n",
      " [  40 4229    2    8]\n",
      " [  16    3 1825    0]\n",
      " [  59   26    4  392]]\n"
     ]
    }
   ],
   "source": [
    "print(confusion_matrix(test_generator.classes, y_pred))"
   ]
  },
  {
   "cell_type": "code",
   "execution_count": null,
   "metadata": {
    "colab": {},
    "colab_type": "code",
    "id": "LWAytEJvfyxw"
   },
   "outputs": [],
   "source": [
    "target_names = ['Accessories', 'Apparel', 'Footware', 'Personal Care']"
   ]
  },
  {
   "cell_type": "code",
   "execution_count": null,
   "metadata": {
    "colab": {
     "base_uri": "https://localhost:8080/",
     "height": 204
    },
    "colab_type": "code",
    "id": "sGqDSWHdglxT",
    "outputId": "c4a540e5-99f5-43f6-ab30-378b5026a691"
   },
   "outputs": [
    {
     "name": "stdout",
     "output_type": "stream",
     "text": [
      "               precision    recall  f1-score   support\n",
      "\n",
      "  Accessories       0.95      0.96      0.96      2258\n",
      "      Apparel       0.98      0.99      0.98      4279\n",
      "     Footware       0.99      0.99      0.99      1844\n",
      "Personal Care       0.96      0.81      0.88       481\n",
      "\n",
      "     accuracy                           0.97      8862\n",
      "    macro avg       0.97      0.94      0.95      8862\n",
      " weighted avg       0.97      0.97      0.97      8862\n",
      "\n"
     ]
    }
   ],
   "source": [
    "print(classification_report(test_generator.classes, y_pred, target_names=target_names))"
   ]
  },
  {
   "cell_type": "markdown",
   "metadata": {
    "colab_type": "text",
    "id": "MEuCSaaLjFap"
   },
   "source": [
    "### 2) Build a model with 2 branches: 1st branch is a CNN, 2nd branch is a pure fully connected network"
   ]
  },
  {
   "cell_type": "code",
   "execution_count": null,
   "metadata": {
    "colab": {},
    "colab_type": "code",
    "id": "9_1bh1-ElLKD"
   },
   "outputs": [],
   "source": [
    "model1 = tf.keras.Sequential([\n",
    "    layers.Conv2D(32, (3, 3), activation='relu', input_shape=(256, 256, 3)),\n",
    "    layers.MaxPooling2D((2, 2)),\n",
    "    layers.Flatten(),\n",
    "    layers.Dense(64, activation='relu')\n",
    "])"
   ]
  },
  {
   "cell_type": "code",
   "execution_count": null,
   "metadata": {
    "colab": {},
    "colab_type": "code",
    "id": "vJPWCxYwljvY"
   },
   "outputs": [],
   "source": [
    "model2 = tf.keras.Sequential([\n",
    "         layers.Flatten(input_shape=(256, 256, 3)),\n",
    "         layers.Dense(64, activation='relu'),\n",
    "         layers.Dropout(0.5),\n",
    "         layers.Dropout(0.5)                     \n",
    "])"
   ]
  },
  {
   "cell_type": "code",
   "execution_count": null,
   "metadata": {
    "colab": {
     "base_uri": "https://localhost:8080/",
     "height": 289
    },
    "colab_type": "code",
    "id": "qxdLlR1kioPc",
    "outputId": "5b2194c5-62fd-46a2-828c-bedbbcb90926"
   },
   "outputs": [
    {
     "name": "stdout",
     "output_type": "stream",
     "text": [
      "Model: \"sequential_1\"\n",
      "_________________________________________________________________\n",
      "Layer (type)                 Output Shape              Param #   \n",
      "=================================================================\n",
      "conv2d_3 (Conv2D)            (None, 254, 254, 32)      896       \n",
      "_________________________________________________________________\n",
      "max_pooling2d_2 (MaxPooling2 (None, 127, 127, 32)      0         \n",
      "_________________________________________________________________\n",
      "flatten_1 (Flatten)          (None, 516128)            0         \n",
      "_________________________________________________________________\n",
      "dense_2 (Dense)              (None, 64)                33032256  \n",
      "=================================================================\n",
      "Total params: 33,033,152\n",
      "Trainable params: 33,033,152\n",
      "Non-trainable params: 0\n",
      "_________________________________________________________________\n"
     ]
    }
   ],
   "source": [
    "model1.summary()"
   ]
  },
  {
   "cell_type": "code",
   "execution_count": null,
   "metadata": {
    "colab": {
     "base_uri": "https://localhost:8080/",
     "height": 289
    },
    "colab_type": "code",
    "id": "omXyFcuGisln",
    "outputId": "c87787ca-b266-4934-a19e-5ef11a68aea0"
   },
   "outputs": [
    {
     "name": "stdout",
     "output_type": "stream",
     "text": [
      "Model: \"sequential_12\"\n",
      "_________________________________________________________________\n",
      "Layer (type)                 Output Shape              Param #   \n",
      "=================================================================\n",
      "flatten_5 (Flatten)          (None, 196608)            0         \n",
      "_________________________________________________________________\n",
      "dense_10 (Dense)             (None, 64)                12582976  \n",
      "_________________________________________________________________\n",
      "dropout_6 (Dropout)          (None, 64)                0         \n",
      "_________________________________________________________________\n",
      "dropout_7 (Dropout)          (None, 64)                0         \n",
      "=================================================================\n",
      "Total params: 12,582,976\n",
      "Trainable params: 12,582,976\n",
      "Non-trainable params: 0\n",
      "_________________________________________________________________\n"
     ]
    }
   ],
   "source": [
    "model2.summary()"
   ]
  },
  {
   "cell_type": "code",
   "execution_count": null,
   "metadata": {
    "colab": {},
    "colab_type": "code",
    "id": "ve3O_fU1nww_"
   },
   "outputs": [],
   "source": [
    "common_input = layers.Input((256, 256, 3))\n",
    "out1 = model1(common_input)\n",
    "out2 = model2(common_input)"
   ]
  },
  {
   "cell_type": "code",
   "execution_count": null,
   "metadata": {
    "colab": {},
    "colab_type": "code",
    "id": "oS23LiOWdC2B"
   },
   "outputs": [],
   "source": [
    "merged = tf.keras.layers.Concatenate()([out1, out2])"
   ]
  },
  {
   "cell_type": "code",
   "execution_count": null,
   "metadata": {
    "colab": {},
    "colab_type": "code",
    "id": "hnP3BekDmSYc"
   },
   "outputs": [],
   "source": [
    "#mergedOut = tf.keras.layers.Flatten()(merged)"
   ]
  },
  {
   "cell_type": "code",
   "execution_count": null,
   "metadata": {
    "colab": {},
    "colab_type": "code",
    "id": "fOR0oAIEkETf"
   },
   "outputs": [],
   "source": [
    "result = tf.keras.layers.Dense(64, activation='softmax')(merged)"
   ]
  },
  {
   "cell_type": "code",
   "execution_count": null,
   "metadata": {
    "colab": {},
    "colab_type": "code",
    "id": "dI7jfXHtkOxX"
   },
   "outputs": [],
   "source": [
    "from tensorflow.keras.models import Model"
   ]
  },
  {
   "cell_type": "code",
   "execution_count": null,
   "metadata": {
    "colab": {},
    "colab_type": "code",
    "id": "5J9xRHqzke5g"
   },
   "outputs": [],
   "source": [
    "Model3 = Model(common_input, result)"
   ]
  },
  {
   "cell_type": "code",
   "execution_count": null,
   "metadata": {
    "colab": {},
    "colab_type": "code",
    "id": "-dQJMZzSYOEx"
   },
   "outputs": [],
   "source": [
    "Model3.compile(optimizer='adam',\n",
    "              loss='sparse_categorical_crossentropy',\n",
    "              metrics=['accuracy'])"
   ]
  },
  {
   "cell_type": "code",
   "execution_count": null,
   "metadata": {
    "colab": {
     "base_uri": "https://localhost:8080/",
     "height": 224
    },
    "colab_type": "code",
    "id": "DmNeY7BgWppW",
    "outputId": "c1da627c-d2b0-4284-da54-abfa185c6024"
   },
   "outputs": [
    {
     "name": "stdout",
     "output_type": "stream",
     "text": [
      "Epoch 1/5\n",
      "1108/1108 [==============================] - 614s 554ms/step - loss: 1.0761 - accuracy: 0.8540 - val_loss: 0.2408 - val_accuracy: 0.9211\n",
      "Epoch 2/5\n",
      "1108/1108 [==============================] - 610s 550ms/step - loss: 0.3357 - accuracy: 0.9023 - val_loss: 0.2349 - val_accuracy: 0.9245\n",
      "Epoch 3/5\n",
      "1108/1108 [==============================] - 607s 547ms/step - loss: 0.2477 - accuracy: 0.9188 - val_loss: 0.2172 - val_accuracy: 0.9300\n",
      "Epoch 4/5\n",
      "1108/1108 [==============================] - 608s 548ms/step - loss: 0.2918 - accuracy: 0.9174 - val_loss: 0.2098 - val_accuracy: 0.9332\n",
      "Epoch 5/5\n",
      "1108/1108 [==============================] - 608s 549ms/step - loss: 0.1997 - accuracy: 0.9340 - val_loss: 0.1745 - val_accuracy: 0.9403\n"
     ]
    },
    {
     "data": {
      "text/plain": [
       "<tensorflow.python.keras.callbacks.History at 0x7f80178ab7b8>"
      ]
     },
     "execution_count": 74,
     "metadata": {
      "tags": []
     },
     "output_type": "execute_result"
    }
   ],
   "source": [
    "Model3.fit(train_generator, validation_data = test_generator, epochs=5)"
   ]
  },
  {
   "cell_type": "code",
   "execution_count": null,
   "metadata": {
    "colab": {},
    "colab_type": "code",
    "id": "7DnLUDOi0ZrT"
   },
   "outputs": [],
   "source": [
    "Model3.save_weights('drive/My Drive/AML/Model3_9340.h5')"
   ]
  },
  {
   "cell_type": "code",
   "execution_count": null,
   "metadata": {
    "colab": {
     "base_uri": "https://localhost:8080/",
     "height": 612
    },
    "colab_type": "code",
    "id": "uSbfy_HuYIQm",
    "outputId": "2efed353-a029-45db-bbeb-4c847b32925b"
   },
   "outputs": [
    {
     "name": "stdout",
     "output_type": "stream",
     "text": [
      "Model: \"model_1\"\n",
      "__________________________________________________________________________________________________\n",
      "Layer (type)                    Output Shape         Param #     Connected to                     \n",
      "==================================================================================================\n",
      "conv2d_3_input (InputLayer)     [(None, 256, 256, 3) 0                                            \n",
      "__________________________________________________________________________________________________\n",
      "flatten_5_input (InputLayer)    [(None, 256, 256, 3) 0                                            \n",
      "__________________________________________________________________________________________________\n",
      "conv2d_3 (Conv2D)               (None, 254, 254, 32) 896         conv2d_3_input[0][0]             \n",
      "__________________________________________________________________________________________________\n",
      "flatten_5 (Flatten)             (None, 196608)       0           flatten_5_input[0][0]            \n",
      "__________________________________________________________________________________________________\n",
      "max_pooling2d_2 (MaxPooling2D)  (None, 127, 127, 32) 0           conv2d_3[0][0]                   \n",
      "__________________________________________________________________________________________________\n",
      "dense_10 (Dense)                (None, 64)           12582976    flatten_5[0][0]                  \n",
      "__________________________________________________________________________________________________\n",
      "flatten_1 (Flatten)             (None, 516128)       0           max_pooling2d_2[0][0]            \n",
      "__________________________________________________________________________________________________\n",
      "dropout_6 (Dropout)             (None, 64)           0           dense_10[0][0]                   \n",
      "__________________________________________________________________________________________________\n",
      "dense_2 (Dense)                 (None, 64)           33032256    flatten_1[0][0]                  \n",
      "__________________________________________________________________________________________________\n",
      "dropout_7 (Dropout)             (None, 64)           0           dropout_6[0][0]                  \n",
      "__________________________________________________________________________________________________\n",
      "concatenate_14 (Concatenate)    (None, 128)          0           dense_2[0][0]                    \n",
      "                                                                 dropout_7[0][0]                  \n",
      "__________________________________________________________________________________________________\n",
      "flatten_7 (Flatten)             (None, 128)          0           concatenate_14[0][0]             \n",
      "__________________________________________________________________________________________________\n",
      "dense_13 (Dense)                (None, 64)           8256        flatten_7[0][0]                  \n",
      "==================================================================================================\n",
      "Total params: 45,624,384\n",
      "Trainable params: 45,624,384\n",
      "Non-trainable params: 0\n",
      "__________________________________________________________________________________________________\n"
     ]
    }
   ],
   "source": [
    "Model3.summary()"
   ]
  },
  {
   "cell_type": "code",
   "execution_count": null,
   "metadata": {
    "colab": {},
    "colab_type": "code",
    "id": "3t7q52LslY--"
   },
   "outputs": [],
   "source": []
  }
 ],
 "metadata": {
  "accelerator": "GPU",
  "colab": {
   "collapsed_sections": [],
   "name": "Assignment3.ipynb",
   "provenance": []
  },
  "kernelspec": {
   "display_name": "Python 3",
   "language": "python",
   "name": "python3"
  },
  "language_info": {
   "codemirror_mode": {
    "name": "ipython",
    "version": 3
   },
   "file_extension": ".py",
   "mimetype": "text/x-python",
   "name": "python",
   "nbconvert_exporter": "python",
   "pygments_lexer": "ipython3",
   "version": "3.7.4"
  }
 },
 "nbformat": 4,
 "nbformat_minor": 1
}
